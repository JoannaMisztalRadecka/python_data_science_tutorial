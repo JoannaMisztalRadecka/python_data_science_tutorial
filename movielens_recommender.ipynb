{
 "cells": [
  {
   "cell_type": "markdown",
   "metadata": {},
   "source": [
    "# Basic recommender for MovieLens data"
   ]
  },
  {
   "cell_type": "markdown",
   "metadata": {},
   "source": [
    "## Imports"
   ]
  },
  {
   "cell_type": "code",
   "execution_count": 101,
   "metadata": {
    "collapsed": true
   },
   "outputs": [],
   "source": [
    "import pandas as pd\n",
    "import numpy as np\n",
    "import re\n",
    "import sklearn\n",
    "\n",
    "from matplotlib import pyplot as plt\n"
   ]
  },
  {
   "cell_type": "markdown",
   "metadata": {},
   "source": [
    "## Read data"
   ]
  },
  {
   "cell_type": "code",
   "execution_count": 102,
   "metadata": {
    "collapsed": true
   },
   "outputs": [],
   "source": [
    "data_path = 'data/movielens_latest_small/{}.csv'\n",
    "\n",
    "ratings_data = pd.read_csv(data_path.format('ratings'))\n",
    "movies_data = pd.read_csv(data_path.format('movies'))\n",
    "tags_data = pd.read_csv(data_path.format('tags'))\n",
    "links_data = pd.read_csv(data_path.format('links'))"
   ]
  },
  {
   "cell_type": "markdown",
   "metadata": {},
   "source": [
    "## Data preprocessing"
   ]
  },
  {
   "cell_type": "code",
   "execution_count": 103,
   "metadata": {
    "collapsed": false,
    "scrolled": true
   },
   "outputs": [],
   "source": [
    "def get_movie_year(title):\n",
    "    title_re = re.compile(r'.+[\\s,-]\\(?(\\d\\d\\d\\d)\\)')\n",
    "    year = title_re.search(title)\n",
    "    if year:\n",
    "        return year.group(1)\n",
    "    \n",
    "def get_movie_title(full_title):\n",
    "    title_re = re.compile(r'(.+)[\\s,-]\\(?(\\d\\d\\d\\d)\\)')\n",
    "    title = title_re.search(full_title)\n",
    "    if title:\n",
    "        return title.group(1)\n",
    "    \n",
    "movies_data[\"movie_year\"] = movies_data[\"title\"].apply(get_movie_year).fillna(\"1990\").astype(int)\n",
    "movies_data[\"title\"] = movies_data[\"title\"].apply(get_movie_title)\n",
    "\n",
    "movie_genres = [\"Action\", \"Adventure\", \"Animation\", \"Children's\", \"Comedy\", \"Crime\", \"Documentary\", \"Drama\", \"Fantasy\", \n",
    "                \"Film-Noir\", \"Horror\", \"Musical\", \"Mystery\", \"Romance\", \"Sci-Fi\", \"Thriller\", \"War\", \"Western\"]\n",
    "for genre in movie_genres:\n",
    "    movies_data[genre] = movies_data[\"genres\"].apply(lambda x: int(genre in x))\n",
    "\n",
    "movies_data = movies_data.drop(\"genres\", 1)"
   ]
  },
  {
   "cell_type": "code",
   "execution_count": 104,
   "metadata": {
    "collapsed": false
   },
   "outputs": [],
   "source": [
    "ratings_data[\"time\"] = ratings_data[\"timestamp\"].apply(pd.to_datetime, unit='s')\n",
    "ratings_data[\"year\"] = ratings_data[\"time\"].apply(lambda x: x.year)\n",
    "ratings_data[\"month\"] = ratings_data[\"time\"].apply(lambda x: x.month)\n",
    "ratings_data[\"day\"] = ratings_data[\"time\"].apply(lambda x: x.day)\n",
    "ratings_data[\"hour\"] = ratings_data[\"time\"].apply(lambda x: x.hour)\n",
    "ratings_data[\"rating\"] = ratings_data[\"rating\"].astype(int)\n",
    "\n",
    "ratings_data = ratings_data.drop(\"timestamp\", 1)\n",
    "ratings_data = ratings_data.drop(\"time\", 1)\n"
   ]
  },
  {
   "cell_type": "code",
   "execution_count": 105,
   "metadata": {
    "collapsed": false
   },
   "outputs": [
    {
     "data": {
      "text/html": [
       "<div>\n",
       "<table border=\"1\" class=\"dataframe\">\n",
       "  <thead>\n",
       "    <tr style=\"text-align: right;\">\n",
       "      <th></th>\n",
       "      <th>userId</th>\n",
       "      <th>movieId</th>\n",
       "      <th>rating</th>\n",
       "      <th>year</th>\n",
       "      <th>month</th>\n",
       "      <th>day</th>\n",
       "      <th>hour</th>\n",
       "    </tr>\n",
       "  </thead>\n",
       "  <tbody>\n",
       "    <tr>\n",
       "      <th>0</th>\n",
       "      <td>1</td>\n",
       "      <td>1</td>\n",
       "      <td>5</td>\n",
       "      <td>1996</td>\n",
       "      <td>11</td>\n",
       "      <td>4</td>\n",
       "      <td>14</td>\n",
       "    </tr>\n",
       "    <tr>\n",
       "      <th>1</th>\n",
       "      <td>1</td>\n",
       "      <td>2</td>\n",
       "      <td>3</td>\n",
       "      <td>1996</td>\n",
       "      <td>11</td>\n",
       "      <td>10</td>\n",
       "      <td>16</td>\n",
       "    </tr>\n",
       "    <tr>\n",
       "      <th>2</th>\n",
       "      <td>1</td>\n",
       "      <td>10</td>\n",
       "      <td>3</td>\n",
       "      <td>1996</td>\n",
       "      <td>11</td>\n",
       "      <td>10</td>\n",
       "      <td>16</td>\n",
       "    </tr>\n",
       "    <tr>\n",
       "      <th>3</th>\n",
       "      <td>1</td>\n",
       "      <td>32</td>\n",
       "      <td>4</td>\n",
       "      <td>1996</td>\n",
       "      <td>11</td>\n",
       "      <td>10</td>\n",
       "      <td>16</td>\n",
       "    </tr>\n",
       "    <tr>\n",
       "      <th>4</th>\n",
       "      <td>1</td>\n",
       "      <td>34</td>\n",
       "      <td>4</td>\n",
       "      <td>1996</td>\n",
       "      <td>11</td>\n",
       "      <td>10</td>\n",
       "      <td>16</td>\n",
       "    </tr>\n",
       "  </tbody>\n",
       "</table>\n",
       "</div>"
      ],
      "text/plain": [
       "   userId  movieId  rating  year  month  day  hour\n",
       "0       1        1       5  1996     11    4    14\n",
       "1       1        2       3  1996     11   10    16\n",
       "2       1       10       3  1996     11   10    16\n",
       "3       1       32       4  1996     11   10    16\n",
       "4       1       34       4  1996     11   10    16"
      ]
     },
     "execution_count": 105,
     "metadata": {},
     "output_type": "execute_result"
    }
   ],
   "source": [
    "ratings_data.head()\n"
   ]
  },
  {
   "cell_type": "code",
   "execution_count": 106,
   "metadata": {
    "collapsed": false,
    "scrolled": false
   },
   "outputs": [
    {
     "data": {
      "text/html": [
       "<div>\n",
       "<table border=\"1\" class=\"dataframe\">\n",
       "  <thead>\n",
       "    <tr style=\"text-align: right;\">\n",
       "      <th>movieId</th>\n",
       "      <th>1</th>\n",
       "      <th>2</th>\n",
       "      <th>3</th>\n",
       "      <th>4</th>\n",
       "      <th>5</th>\n",
       "      <th>6</th>\n",
       "      <th>7</th>\n",
       "      <th>8</th>\n",
       "      <th>9</th>\n",
       "      <th>10</th>\n",
       "      <th>...</th>\n",
       "      <th>132796</th>\n",
       "      <th>133419</th>\n",
       "      <th>133545</th>\n",
       "      <th>133897</th>\n",
       "      <th>134170</th>\n",
       "      <th>134368</th>\n",
       "      <th>134393</th>\n",
       "      <th>134783</th>\n",
       "      <th>134853</th>\n",
       "      <th>135887</th>\n",
       "    </tr>\n",
       "    <tr>\n",
       "      <th>userId</th>\n",
       "      <th></th>\n",
       "      <th></th>\n",
       "      <th></th>\n",
       "      <th></th>\n",
       "      <th></th>\n",
       "      <th></th>\n",
       "      <th></th>\n",
       "      <th></th>\n",
       "      <th></th>\n",
       "      <th></th>\n",
       "      <th></th>\n",
       "      <th></th>\n",
       "      <th></th>\n",
       "      <th></th>\n",
       "      <th></th>\n",
       "      <th></th>\n",
       "      <th></th>\n",
       "      <th></th>\n",
       "      <th></th>\n",
       "      <th></th>\n",
       "      <th></th>\n",
       "    </tr>\n",
       "  </thead>\n",
       "  <tbody>\n",
       "    <tr>\n",
       "      <th>1</th>\n",
       "      <td>5</td>\n",
       "      <td>3</td>\n",
       "      <td>NaN</td>\n",
       "      <td>NaN</td>\n",
       "      <td>NaN</td>\n",
       "      <td>NaN</td>\n",
       "      <td>NaN</td>\n",
       "      <td>NaN</td>\n",
       "      <td>NaN</td>\n",
       "      <td>3</td>\n",
       "      <td>...</td>\n",
       "      <td>NaN</td>\n",
       "      <td>NaN</td>\n",
       "      <td>NaN</td>\n",
       "      <td>NaN</td>\n",
       "      <td>NaN</td>\n",
       "      <td>NaN</td>\n",
       "      <td>NaN</td>\n",
       "      <td>NaN</td>\n",
       "      <td>NaN</td>\n",
       "      <td>NaN</td>\n",
       "    </tr>\n",
       "    <tr>\n",
       "      <th>2</th>\n",
       "      <td>3</td>\n",
       "      <td>3</td>\n",
       "      <td>NaN</td>\n",
       "      <td>NaN</td>\n",
       "      <td>NaN</td>\n",
       "      <td>NaN</td>\n",
       "      <td>NaN</td>\n",
       "      <td>NaN</td>\n",
       "      <td>NaN</td>\n",
       "      <td>NaN</td>\n",
       "      <td>...</td>\n",
       "      <td>NaN</td>\n",
       "      <td>NaN</td>\n",
       "      <td>NaN</td>\n",
       "      <td>NaN</td>\n",
       "      <td>NaN</td>\n",
       "      <td>NaN</td>\n",
       "      <td>NaN</td>\n",
       "      <td>NaN</td>\n",
       "      <td>NaN</td>\n",
       "      <td>NaN</td>\n",
       "    </tr>\n",
       "    <tr>\n",
       "      <th>3</th>\n",
       "      <td>NaN</td>\n",
       "      <td>NaN</td>\n",
       "      <td>NaN</td>\n",
       "      <td>NaN</td>\n",
       "      <td>NaN</td>\n",
       "      <td>NaN</td>\n",
       "      <td>NaN</td>\n",
       "      <td>NaN</td>\n",
       "      <td>NaN</td>\n",
       "      <td>NaN</td>\n",
       "      <td>...</td>\n",
       "      <td>NaN</td>\n",
       "      <td>NaN</td>\n",
       "      <td>NaN</td>\n",
       "      <td>NaN</td>\n",
       "      <td>NaN</td>\n",
       "      <td>NaN</td>\n",
       "      <td>NaN</td>\n",
       "      <td>NaN</td>\n",
       "      <td>NaN</td>\n",
       "      <td>NaN</td>\n",
       "    </tr>\n",
       "    <tr>\n",
       "      <th>4</th>\n",
       "      <td>NaN</td>\n",
       "      <td>NaN</td>\n",
       "      <td>NaN</td>\n",
       "      <td>NaN</td>\n",
       "      <td>NaN</td>\n",
       "      <td>NaN</td>\n",
       "      <td>NaN</td>\n",
       "      <td>NaN</td>\n",
       "      <td>NaN</td>\n",
       "      <td>NaN</td>\n",
       "      <td>...</td>\n",
       "      <td>NaN</td>\n",
       "      <td>NaN</td>\n",
       "      <td>NaN</td>\n",
       "      <td>NaN</td>\n",
       "      <td>NaN</td>\n",
       "      <td>NaN</td>\n",
       "      <td>NaN</td>\n",
       "      <td>NaN</td>\n",
       "      <td>NaN</td>\n",
       "      <td>NaN</td>\n",
       "    </tr>\n",
       "    <tr>\n",
       "      <th>5</th>\n",
       "      <td>4</td>\n",
       "      <td>NaN</td>\n",
       "      <td>NaN</td>\n",
       "      <td>NaN</td>\n",
       "      <td>3</td>\n",
       "      <td>4</td>\n",
       "      <td>NaN</td>\n",
       "      <td>NaN</td>\n",
       "      <td>NaN</td>\n",
       "      <td>NaN</td>\n",
       "      <td>...</td>\n",
       "      <td>NaN</td>\n",
       "      <td>NaN</td>\n",
       "      <td>NaN</td>\n",
       "      <td>NaN</td>\n",
       "      <td>NaN</td>\n",
       "      <td>NaN</td>\n",
       "      <td>NaN</td>\n",
       "      <td>NaN</td>\n",
       "      <td>NaN</td>\n",
       "      <td>NaN</td>\n",
       "    </tr>\n",
       "  </tbody>\n",
       "</table>\n",
       "<p>5 rows × 8915 columns</p>\n",
       "</div>"
      ],
      "text/plain": [
       "movieId  1       2       3       4       5       6       7       8       \\\n",
       "userId                                                                    \n",
       "1             5       3     NaN     NaN     NaN     NaN     NaN     NaN   \n",
       "2             3       3     NaN     NaN     NaN     NaN     NaN     NaN   \n",
       "3           NaN     NaN     NaN     NaN     NaN     NaN     NaN     NaN   \n",
       "4           NaN     NaN     NaN     NaN     NaN     NaN     NaN     NaN   \n",
       "5             4     NaN     NaN     NaN       3       4     NaN     NaN   \n",
       "\n",
       "movieId  9       10       ...    132796  133419  133545  133897  134170  \\\n",
       "userId                    ...                                             \n",
       "1           NaN       3   ...       NaN     NaN     NaN     NaN     NaN   \n",
       "2           NaN     NaN   ...       NaN     NaN     NaN     NaN     NaN   \n",
       "3           NaN     NaN   ...       NaN     NaN     NaN     NaN     NaN   \n",
       "4           NaN     NaN   ...       NaN     NaN     NaN     NaN     NaN   \n",
       "5           NaN     NaN   ...       NaN     NaN     NaN     NaN     NaN   \n",
       "\n",
       "movieId  134368  134393  134783  134853  135887  \n",
       "userId                                           \n",
       "1           NaN     NaN     NaN     NaN     NaN  \n",
       "2           NaN     NaN     NaN     NaN     NaN  \n",
       "3           NaN     NaN     NaN     NaN     NaN  \n",
       "4           NaN     NaN     NaN     NaN     NaN  \n",
       "5           NaN     NaN     NaN     NaN     NaN  \n",
       "\n",
       "[5 rows x 8915 columns]"
      ]
     },
     "execution_count": 106,
     "metadata": {},
     "output_type": "execute_result"
    }
   ],
   "source": [
    "ratings_table = ratings_data.pivot_table(columns=[\"movieId\"], index=['userId'], values='rating').astype(float)\n",
    "rated_items = ratings_table.notnull()\n",
    "\n",
    "ratings_table.head()"
   ]
  },
  {
   "cell_type": "markdown",
   "metadata": {},
   "source": [
    "##Base Recommeder"
   ]
  },
  {
   "cell_type": "code",
   "execution_count": 143,
   "metadata": {
    "collapsed": true
   },
   "outputs": [],
   "source": [
    "class BaseRecommender(object):\n",
    "    def get_predictions(self, ratings):\n",
    "        raise NotImplementedError()\n",
    "    \n",
    "    def test_predictions(self, train_data, test_data):\n",
    "        raise NotImplementedError()\n",
    "    \n",
    "    def get_top_items(self, ratings, n=5):\n",
    "        raise NotImplementedError()"
   ]
  },
  {
   "cell_type": "markdown",
   "metadata": {},
   "source": [
    "## Non-personalized recommender"
   ]
  },
  {
   "cell_type": "code",
   "execution_count": 147,
   "metadata": {
    "collapsed": false,
    "scrolled": true
   },
   "outputs": [],
   "source": [
    "\n",
    "# filtered_ratings = ratings_data.copy()\n",
    "# filtered_ratings['rating'] = filtered_ratings.groupby('movieId')['rating'].filter(lambda x:x.count() > 10)\n",
    "\n",
    "class NonPersonalizedRecommender(BaseRecommender):\n",
    "    \n",
    "    def get_predictions(self, ratings):\n",
    "        grouped_ratings = ratings.groupby('movieId')['rating']\n",
    "        return grouped_ratings.agg([np.mean])\n",
    "\n",
    "    def test_predictions(self, train_data, test_data, column='mean'):\n",
    "        test_predictions = self.get_predictions(train_data)\n",
    "        merged_predictions = test_predictions.merge(test_data, left_index=True, right_on='movieId', how='right')\n",
    "        merged_predictions[column] = merged_predictions[column].fillna(0)\n",
    "        return merged_predictions[column]\n",
    "    \n",
    "    def get_top_items(self, ratings, n=5):\n",
    "        predictions_table = self.get_predictions(ratings)\n",
    "        return predictions_table.sort_values(by='mean', ascending=False)[:n]\n",
    "    \n",
    "    def __positive_ratings(self, x):\n",
    "        return x[x >= 4].count() / x.count()\n",
    "\n",
    "    def __popularity(self, x):\n",
    "        return x.count()\n"
   ]
  },
  {
   "cell_type": "markdown",
   "metadata": {},
   "source": [
    "## Cross-validation"
   ]
  },
  {
   "cell_type": "code",
   "execution_count": 149,
   "metadata": {
    "collapsed": false
   },
   "outputs": [
    {
     "name": "stdout",
     "output_type": "stream",
     "text": [
      "1.18254618697\n"
     ]
    }
   ],
   "source": [
    "from sklearn.metrics import mean_squared_error\n",
    "from sklearn.cross_validation import KFold\n",
    "from random import sample\n",
    "\n",
    "def rmse(actual, predictions):\n",
    "    return np.sqrt(mean_squared_error(actual, predictions))\n",
    "\n",
    "def evaluate_predictions(ratings, recommender, metrics=rmse):\n",
    "    kf = KFold(n=ratings.shape[0], n_folds=10, shuffle=True)\n",
    "\n",
    "    predictions = []\n",
    "    actual = []\n",
    "\n",
    "    for train, test in kf:\n",
    "        train_data = ratings_data.iloc[train]\n",
    "        test_data = ratings_data.iloc[test]\n",
    "        \n",
    "        actual.extend(test_data['rating'])\n",
    "        predictions.extend(recommender.test_predictions(train_data, test_data))\n",
    "    \n",
    "    return metrics(actual, predictions)\n",
    "\n",
    "print(evaluate_predictions(ratings_data, NonPersonalizedRecommender()))"
   ]
  },
  {
   "cell_type": "markdown",
   "metadata": {
    "collapsed": true
   },
   "source": [
    "## Collaborative filtering"
   ]
  },
  {
   "cell_type": "code",
   "execution_count": 10,
   "metadata": {
    "collapsed": false
   },
   "outputs": [],
   "source": [
    "from sklearn.cross_validation import KFold\n",
    "from sklearn.neighbors import KNeighborsRegressor\n",
    "import math\n",
    "\n",
    "\n",
    "def kfolds(data, n_folds=3):\n",
    "    folds = []\n",
    "    sets = []\n",
    "    k = math.floor(len(data) / n_folds)\n",
    "    rest = len(data) % n_folds\n",
    "    for i in range(n_folds):\n",
    "        first_ind = i * k\n",
    "        last_ind = (i + 1) * k \n",
    "        if rest > 0:\n",
    "            last_ind  += 1\n",
    "            rest -= 1\n",
    "        folds.append(data.iloc[first_ind : last_ind])\n",
    "    for i in range(n_folds):\n",
    "        sets.append((folds[i], pd.concat([folds[j] for j in range(n_folds) if j != i])))\n",
    "        \n",
    "    return sets\n",
    "\n",
    "def predict_values(train_data, train_target, test_data, model=KNeighborsRegressor()):\n",
    "    model.fit(train_data, train_target)\n",
    "    return model.predict(test_data)\n",
    "    \n",
    "def cross_validation(data, movie):\n",
    "    cv_pred = []\n",
    "    cv_actual = []\n",
    "    for test_set, train_set in kfolds(data):\n",
    "        train_predictors = train_set.drop(movie, axis=1)\n",
    "        train_target = train_set[movie]\n",
    "        test_predictors = test_set.drop(movie, axis=1)\n",
    "        cv_pred.append(predict_values(train_predictors, train_target, test_predictors))\n",
    "    return np.concatenate(cv_pred, axis=0)\n",
    "\n",
    "def predict_for_user(r_data, movie, user):\n",
    "    cv_pred = []\n",
    "    cv_actual = []\n",
    "    train_predictors = r_data.drop(user).drop(movie, axis=1)\n",
    "    train_target = r_data.drop(user)[movie] \n",
    "    test_predictors = r_data.drop(movie, axis=1).iloc[user]\n",
    "    return predict_values(train_predictors, train_target, test_predictors)\n",
    "\n",
    "\n"
   ]
  },
  {
   "cell_type": "markdown",
   "metadata": {},
   "source": [
    "## Error measure"
   ]
  },
  {
   "cell_type": "code",
   "execution_count": 13,
   "metadata": {
    "collapsed": false
   },
   "outputs": [
    {
     "name": "stdout",
     "output_type": "stream",
     "text": [
      "movieId\n",
      "1       3\n",
      "2       3\n",
      "11      3\n",
      "17      5\n",
      "19      4\n",
      "21      3\n",
      "34      5\n",
      "39      3\n",
      "47      2\n",
      "95      3\n",
      "150     4\n",
      "153     3\n",
      "160     3\n",
      "161     4\n",
      "165     2\n",
      "173     2\n",
      "185     3\n",
      "186     3\n",
      "196     2\n",
      "208     3\n",
      "225     3\n",
      "231     3\n",
      "236     4\n",
      "252     3\n",
      "253     4\n",
      "266     4\n",
      "282     4\n",
      "288     1\n",
      "293     3\n",
      "300     4\n",
      "       ..\n",
      "5650    2\n",
      "5689    4\n",
      "5693    2\n",
      "5696    4\n",
      "5705    2\n",
      "5707    4\n",
      "5732    4\n",
      "5745    4\n",
      "5747    3\n",
      "5772    5\n",
      "5777    3\n",
      "5780    3\n",
      "5801    4\n",
      "5802    3\n",
      "5816    4\n",
      "5826    3\n",
      "5836    4\n",
      "5847    4\n",
      "5853    4\n",
      "5862    3\n",
      "5868    2\n",
      "5899    4\n",
      "5902    5\n",
      "5911    5\n",
      "5933    4\n",
      "5938    4\n",
      "5940    4\n",
      "5983    4\n",
      "6001    4\n",
      "6184    3\n",
      "dtype: float64\n",
      "0.661330974054\n"
     ]
    }
   ],
   "source": [
    "from sklearn.metrics import mean_squared_error\n",
    "from random import sample\n",
    "\n",
    "def rmse(actual, predictions):\n",
    "    return np.sqrt(mean_squared_error(actual, predictions))\n",
    "\n",
    "predictions = []\n",
    "actual = []\n",
    "\n",
    "for user_id in range(1, 5): # sample(ratings_table.columns.values.tolist(), 3):\n",
    "    rated_by_user = rated_items.iloc[user_id]\n",
    "    rated_indexes = ratings_table.iloc[user_id][rated_by_user].index\n",
    "    for movie in rated_indexes:\n",
    "        predictions.append(predict_for_user(ratings_table[rated_indexes], movie, user_id))\n",
    "    actual.append(ratings_table.iloc[user_id][rated_indexes])\n",
    "predictions = np.concatenate(predictions)\n",
    "actual = pd.concat(actual)\n",
    "error = rmse(actual, predictions)\n",
    "print(error)"
   ]
  },
  {
   "cell_type": "code",
   "execution_count": null,
   "metadata": {
    "collapsed": true
   },
   "outputs": [],
   "source": []
  }
 ],
 "metadata": {
  "kernelspec": {
   "display_name": "Python 3",
   "language": "python",
   "name": "python3"
  },
  "language_info": {
   "codemirror_mode": {
    "name": "ipython",
    "version": 3
   },
   "file_extension": ".py",
   "mimetype": "text/x-python",
   "name": "python",
   "nbconvert_exporter": "python",
   "pygments_lexer": "ipython3",
   "version": "3.4.3"
  }
 },
 "nbformat": 4,
 "nbformat_minor": 0
}
