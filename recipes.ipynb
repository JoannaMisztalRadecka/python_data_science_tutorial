{
 "cells": [
  {
   "cell_type": "markdown",
   "metadata": {},
   "source": [
    "## Read data"
   ]
  },
  {
   "cell_type": "code",
   "execution_count": null,
   "metadata": {
    "collapsed": true
   },
   "outputs": [],
   "source": [
    "import pandas as pd\n",
    "import numpy as np\n",
    "import nltk\n",
    "\n",
    "train_data = pd.read_json('data/train.json')"
   ]
  },
  {
   "cell_type": "markdown",
   "metadata": {},
   "source": [
    "##Preprocess columns"
   ]
  },
  {
   "cell_type": "code",
   "execution_count": null,
   "metadata": {
    "collapsed": false,
    "scrolled": true
   },
   "outputs": [],
   "source": [
    "from sklearn import preprocessing\n",
    "from sklearn.feature_extraction.text import CountVectorizer\n",
    "\n",
    "labels =  preprocessing.LabelEncoder()\n",
    "train_data[\"cuisine\"] = labels.fit_transform(train_data[\"cuisine\"])\n",
    "train_data[\"ingredients\"] = train_data[\"ingredients\"].astype(list)\n"
   ]
  },
  {
   "cell_type": "markdown",
   "metadata": {},
   "source": [
    "##Make bag of words representation"
   ]
  },
  {
   "cell_type": "code",
   "execution_count": null,
   "metadata": {
    "collapsed": false
   },
   "outputs": [],
   "source": [
    "import re\n",
    "from nltk.stem.porter import PorterStemmer\n",
    "\n",
    "\n",
    "def stem_tokens(tokens, stemmer):\n",
    "    stemmed = []\n",
    "    for item in tokens:\n",
    "        stemmed.append(PorterStemmer().stem(item))\n",
    "    return stemmed\n",
    "\n",
    "def stem_tokenize(doc):\n",
    "    stemmer = PorterStemmer()\n",
    "    token_pattern = re.compile(r'[a-zA-Z]{2,}')\n",
    "    tokens = token_pattern.findall(doc)\n",
    "    stems = stem_tokens(tokens, stemmer)\n",
    "    return stems\n",
    "\n",
    "all_ingredients = np.concatenate(train_data[\"ingredients\"])\n",
    "vect = CountVectorizer(tokenizer=stem_tokenize, stop_words='english', token_pattern='[a-zA-Z]{2,}')\n",
    "joined_ingredients = [x for x in map(lambda x: \" \".join(x), train_data[\"ingredients\"])]\n",
    "words_vects = vect.fit_transform(joined_ingredients).toarray()\n",
    "ingredients_names = vect.get_feature_names()"
   ]
  },
  {
   "cell_type": "code",
   "execution_count": null,
   "metadata": {
    "collapsed": false
   },
   "outputs": [],
   "source": [
    "from sklearn.naive_bayes import MultinomialNB\n",
    "from sklearn.svm import SVC\n",
    "from sklearn.cross_validation import KFold\n",
    "\n",
    "kfold = KFold(n=words_vects.shape[0], n_folds=3)\n",
    "\n",
    "clf = MultinomialNB()\n",
    "\n",
    "predictions = []\n",
    "for train, test in kfold:\n",
    "    train_predictors = words_vects[train,:]\n",
    "    test_predictors = words_vects[test,:]\n",
    "    train_target = train_data.iloc[train][\"cuisine\"]\n",
    "    clf.fit(train_predictors, train_target)\n",
    "    test_predictions = clf.predict(test_predictors)\n",
    "    predictions.append(test_predictions)\n",
    "predictions = np.concatenate(predictions)\n"
   ]
  },
  {
   "cell_type": "code",
   "execution_count": null,
   "metadata": {
    "collapsed": false
   },
   "outputs": [],
   "source": [
    "def get_accuracy(actual, predicted):\n",
    "    acc_counter = 0\n",
    "    for i in range(len(actual)):\n",
    "        if(actual[i] == predicted[i]):\n",
    "            acc_counter += 1\n",
    "    return acc_counter / len(actual)\n",
    "\n",
    "accuracy = get_accuracy(train_data[\"cuisine\"], predictions)\n",
    "print(accuracy)"
   ]
  },
  {
   "cell_type": "code",
   "execution_count": null,
   "metadata": {
    "collapsed": true
   },
   "outputs": [],
   "source": [
    "test_data = pd.read_json('data/kaggle_recipes/test.json')\n",
    "test_data[\"ingredients\"] = test_data[\"ingredients\"].astype(list)\n",
    "test_joined_ingredients = [x for x in map(lambda x: \" \".join(x), test_data[\"ingredients\"])]\n",
    "test_words_vects = vect.transform(test_joined_ingredients).toarray()\n",
    "\n"
   ]
  },
  {
   "cell_type": "markdown",
   "metadata": {},
   "source": [
    "## Fit on whole dataset and predict on test data:"
   ]
  },
  {
   "cell_type": "code",
   "execution_count": null,
   "metadata": {
    "collapsed": false
   },
   "outputs": [],
   "source": [
    "target = train_data[\"cuisine\"]\n",
    "clf.fit(words_vects, target)\n",
    "\n",
    "final_predictions = clf.predict(test_words_vects)\n",
    "predicted_labels = labels.inverse_transform(final_predictions)\n",
    "print(predicted_labels)"
   ]
  },
  {
   "cell_type": "code",
   "execution_count": null,
   "metadata": {
    "collapsed": false
   },
   "outputs": [],
   "source": [
    "pd.concat([test_data[\"id\"], pd.Series(predicted_labels, name=\"cuisine\")], axis=1).to_csv('data/kaggle_recipes/submission.csv', index=False)"
   ]
  },
  {
   "cell_type": "code",
   "execution_count": null,
   "metadata": {
    "collapsed": true
   },
   "outputs": [],
   "source": []
  }
 ],
 "metadata": {
  "kernelspec": {
   "display_name": "Python 3",
   "language": "python",
   "name": "python3"
  },
  "language_info": {
   "codemirror_mode": {
    "name": "ipython",
    "version": 3
   },
   "file_extension": ".py",
   "mimetype": "text/x-python",
   "name": "python",
   "nbconvert_exporter": "python",
   "pygments_lexer": "ipython3",
   "version": "3.4.3"
  }
 },
 "nbformat": 4,
 "nbformat_minor": 0
}
