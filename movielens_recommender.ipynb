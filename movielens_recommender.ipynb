{
 "cells": [
  {
   "cell_type": "markdown",
   "metadata": {},
   "source": [
    "# Basic recommender for MovieLens data"
   ]
  },
  {
   "cell_type": "markdown",
   "metadata": {},
   "source": [
    "## Imports"
   ]
  },
  {
   "cell_type": "code",
   "execution_count": null,
   "metadata": {
    "collapsed": true
   },
   "outputs": [],
   "source": [
    "import pandas as pd\n",
    "import numpy as np\n",
    "import re\n",
    "import sklearn\n",
    "\n",
    "from matplotlib import pyplot as plt\n"
   ]
  },
  {
   "cell_type": "markdown",
   "metadata": {},
   "source": [
    "## Read data"
   ]
  },
  {
   "cell_type": "code",
   "execution_count": null,
   "metadata": {
    "collapsed": true
   },
   "outputs": [],
   "source": [
    "data_path = 'data/movielens_latest_small/{}.csv'\n",
    "\n",
    "ratings_data = pd.read_csv(data_path.format('ratings'))\n",
    "movies_data = pd.read_csv(data_path.format('movies'))\n",
    "tags_data = pd.read_csv(data_path.format('tags'))\n",
    "links_data = pd.read_csv(data_path.format('links'))"
   ]
  },
  {
   "cell_type": "markdown",
   "metadata": {},
   "source": [
    "## Data preprocessing"
   ]
  },
  {
   "cell_type": "code",
   "execution_count": null,
   "metadata": {
    "collapsed": false,
    "scrolled": true
   },
   "outputs": [],
   "source": [
    "def get_movie_year(title):\n",
    "    title_re = re.compile(r'.+[\\s,-]\\(?(\\d\\d\\d\\d)\\)')\n",
    "    year = title_re.search(title)\n",
    "    if year:\n",
    "        return year.group(1)\n",
    "    \n",
    "def get_movie_title(full_title):\n",
    "    title_re = re.compile(r'(.+)[\\s,-]\\(?(\\d\\d\\d\\d)\\)')\n",
    "    title = title_re.search(full_title)\n",
    "    if title:\n",
    "        return title.group(1)\n",
    "    \n",
    "movies_data[\"year\"] = movies_data[\"title\"].apply(get_movie_year).fillna(\"1990\").astype(int)\n",
    "movies_data[\"title\"] = movies_data[\"title\"].apply(get_movie_title)\n",
    "\n",
    "movie_genres = [\"Action\", \"Adventure\", \"Animation\", \"Children's\", \"Comedy\", \"Crime\", \"Documentary\", \"Drama\", \"Fantasy\", \n",
    "                \"Film-Noir\", \"Horror\", \"Musical\", \"Mystery\", \"Romance\", \"Sci-Fi\", \"Thriller\", \"War\", \"Western\"]\n",
    "for genre in movie_genres:\n",
    "    movies_data[genre] = movies_data[\"genres\"].apply(lambda x: int(genre in x))\n",
    "\n",
    "movies_data = movies_data.drop(\"genres\", 1)"
   ]
  },
  {
   "cell_type": "code",
   "execution_count": null,
   "metadata": {
    "collapsed": false
   },
   "outputs": [],
   "source": [
    "ratings_data[\"time\"] = ratings_data[\"timestamp\"].apply(pd.to_datetime, unit='s')\n",
    "ratings_data[\"year\"] = ratings_data[\"time\"].apply(lambda x: x.year)\n",
    "ratings_data[\"month\"] = ratings_data[\"time\"].apply(lambda x: x.month)\n",
    "ratings_data[\"day\"] = ratings_data[\"time\"].apply(lambda x: x.day)\n",
    "ratings_data[\"hour\"] = ratings_data[\"time\"].apply(lambda x: x.hour)\n",
    "ratings_data[\"rating\"] = ratings_data[\"rating\"].astype(int)\n",
    "\n",
    "# ratings_data = movies_data.drop(\"timestamp\", 1)\n",
    "# ratings_data = movies_data.drop(\"time\", 1)\n"
   ]
  },
  {
   "cell_type": "code",
   "execution_count": null,
   "metadata": {
    "collapsed": false
   },
   "outputs": [],
   "source": [
    "print(ratings_data.head())\n",
    "print(movies_data.head())"
   ]
  },
  {
   "cell_type": "code",
   "execution_count": null,
   "metadata": {
    "collapsed": false
   },
   "outputs": [],
   "source": [
    "ratings_table = ratings_data.pivot_table(columns=[\"movieId\"], index=['userId'], values='rating').astype(float)\n",
    "rated_items = ratings_table.notnull()\n",
    "for movie in ratings_table.columns.values:\n",
    "    ratings_table[movie] = ratings_table[movie].fillna(ratings_table[movie].median())\n"
   ]
  },
  {
   "cell_type": "markdown",
   "metadata": {
    "collapsed": true
   },
   "source": [
    "## Collaborative filtering"
   ]
  },
  {
   "cell_type": "code",
   "execution_count": null,
   "metadata": {
    "collapsed": false
   },
   "outputs": [],
   "source": [
    "from sklearn.cross_validation import KFold\n",
    "from sklearn.neighbors import KNeighborsRegressor\n",
    "import math\n",
    "\n",
    "\n",
    "def kfolds(data, n_folds=3):\n",
    "    folds = []\n",
    "    sets = []\n",
    "    k = math.floor(len(data) / n_folds)\n",
    "    rest = len(data) % n_folds\n",
    "    for i in range(n_folds):\n",
    "        first_ind = i * k\n",
    "        last_ind = (i + 1) * k \n",
    "        if rest > 0:\n",
    "            last_ind  += 1\n",
    "            rest -= 1\n",
    "        folds.append(data.iloc[first_ind : last_ind])\n",
    "    for i in range(n_folds):\n",
    "        sets.append((folds[i], pd.concat([folds[j] for j in range(n_folds) if j != i])))\n",
    "        \n",
    "    return sets\n",
    "\n",
    "def predict_values(train_data, train_target, test_data, model=KNeighborsRegressor()):\n",
    "    model.fit(train_data, train_target)\n",
    "    return model.predict(test_data)\n",
    "    \n",
    "def cross_validation(data, movie):\n",
    "    cv_pred = []\n",
    "    for test_set, train_set in kfolds(data):\n",
    "        train_predictors = train_set.drop(movie_id, axis=1)\n",
    "        train_target = train_set[movie]\n",
    "        test_predictors = test_set.drop(movie_id, axis=1)\n",
    "        cv_pred.append(predict_values(train_predictors, train_target, test_predictors))\n",
    "    return np.concatenate(cv_pred, axis=0)\n"
   ]
  },
  {
   "cell_type": "markdown",
   "metadata": {},
   "source": [
    "## Error measure"
   ]
  },
  {
   "cell_type": "code",
   "execution_count": null,
   "metadata": {
    "collapsed": false
   },
   "outputs": [],
   "source": [
    "from sklearn.metrics import mean_squared_error\n",
    "from random import sample\n",
    "\n",
    "def rmse(actual, predictions):\n",
    "    return np.sqrt(mean_squared_error(actual, predictions))\n",
    "\n",
    "predictions = []\n",
    "actual = []\n",
    "\n",
    "for movie_id in range(1, 5):\n",
    "    movie_predictions = cross_validation(ratings_table, movie_id)\n",
    "    rated_movie_ixs = ratings_table[rated_items[movie_id]].index \n",
    "    predictions.append(pd.Series(movie_predictions, index=ratings_table.index)[rated_movie_ixs])\n",
    "    actual.append(ratings_table[movie_id][rated_movie_ixs])\n",
    "\n",
    "predictions = pd.concat(predictions)\n",
    "actual = pd.concat(actual)\n",
    "    \n",
    "error = rmse(actual, predictions)\n"
   ]
  },
  {
   "cell_type": "code",
   "execution_count": null,
   "metadata": {
    "collapsed": true
   },
   "outputs": [],
   "source": []
  }
 ],
 "metadata": {
  "kernelspec": {
   "display_name": "Python 3",
   "language": "python",
   "name": "python3"
  },
  "language_info": {
   "codemirror_mode": {
    "name": "ipython",
    "version": 3
   },
   "file_extension": ".py",
   "mimetype": "text/x-python",
   "name": "python",
   "nbconvert_exporter": "python",
   "pygments_lexer": "ipython3",
   "version": "3.4.3"
  }
 },
 "nbformat": 4,
 "nbformat_minor": 0
}
