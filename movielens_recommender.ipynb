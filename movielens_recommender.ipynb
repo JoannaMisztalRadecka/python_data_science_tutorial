{
 "cells": [
  {
   "cell_type": "markdown",
   "metadata": {},
   "source": [
    "# Basic recommender for MovieLens data"
   ]
  },
  {
   "cell_type": "markdown",
   "metadata": {},
   "source": [
    "## Imports"
   ]
  },
  {
   "cell_type": "code",
   "execution_count": 66,
   "metadata": {
    "collapsed": true
   },
   "outputs": [],
   "source": [
    "import pandas as pd\n",
    "import numpy as np\n",
    "import re\n",
    "\n",
    "from matplotlib import pyplot as plt\n"
   ]
  },
  {
   "cell_type": "markdown",
   "metadata": {},
   "source": [
    "## Read data"
   ]
  },
  {
   "cell_type": "code",
   "execution_count": 67,
   "metadata": {
    "collapsed": true
   },
   "outputs": [],
   "source": [
    "data_path = 'data/movielens_latest_small/{}.csv'\n",
    "\n",
    "ratings_data = pd.read_csv(data_path.format('ratings'))\n",
    "movies_data = pd.read_csv(data_path.format('movies'))\n",
    "tags_data = pd.read_csv(data_path.format('tags'))\n",
    "links_data = pd.read_csv(data_path.format('links'))"
   ]
  },
  {
   "cell_type": "markdown",
   "metadata": {},
   "source": [
    "## Data preprocessing"
   ]
  },
  {
   "cell_type": "code",
   "execution_count": 68,
   "metadata": {
    "collapsed": false,
    "scrolled": true
   },
   "outputs": [],
   "source": [
    "def get_movie_year(title):\n",
    "    title_re = re.compile(r'.+[\\s,-]\\(?(\\d\\d\\d\\d)\\)')\n",
    "    year = title_re.search(title)\n",
    "    if year:\n",
    "        return year.group(1)\n",
    "    \n",
    "def get_movie_title(full_title):\n",
    "    title_re = re.compile(r'(.+)[\\s,-]\\(?(\\d\\d\\d\\d)\\)')\n",
    "    title = title_re.search(full_title)\n",
    "    if title:\n",
    "        return title.group(1)\n",
    "    \n",
    "movies_data[\"year\"] = movies_data[\"title\"].apply(get_movie_year).fillna(\"1990\").astype(int)\n",
    "movies_data[\"title\"] = movies_data[\"title\"].apply(get_movie_title)\n",
    "\n",
    "movie_genres = [\"Action\", \"Adventure\", \"Animation\", \"Children's\", \"Comedy\", \"Crime\", \"Documentary\", \"Drama\", \"Fantasy\", \n",
    "                \"Film-Noir\", \"Horror\", \"Musical\", \"Mystery\", \"Romance\", \"Sci-Fi\", \"Thriller\", \"War\", \"Western\"]\n",
    "for genre in movie_genres:\n",
    "    movies_data[genre] = movies_data[\"genres\"].apply(lambda x: int(genre in x))\n",
    "\n",
    "movies_data = movies_data.drop(\"genres\", 1)\n",
    "\n"
   ]
  },
  {
   "cell_type": "code",
   "execution_count": 75,
   "metadata": {
    "collapsed": false
   },
   "outputs": [],
   "source": [
    "ratings_data[\"time\"] = ratings_data[\"timestamp\"].apply(pd.to_datetime, unit='s')\n",
    "ratings_data[\"year\"] = ratings_data[\"time\"].apply(lambda x: x.year)\n",
    "ratings_data[\"month\"] = ratings_data[\"time\"].apply(lambda x: x.month)\n",
    "ratings_data[\"day\"] = ratings_data[\"time\"].apply(lambda x: x.day)\n",
    "ratings_data[\"hour\"] = ratings_data[\"time\"].apply(lambda x: x.hour)\n",
    "\n",
    "ratings_data = movies_data.drop(\"timestamp\", 1)\n",
    "ratings_data = movies_data.drop(\"time\", 1)\n"
   ]
  },
  {
   "cell_type": "code",
   "execution_count": 76,
   "metadata": {
    "collapsed": false
   },
   "outputs": [
    {
     "name": "stdout",
     "output_type": "stream",
     "text": [
      "   userId  movieId  rating  timestamp                time  year  month  day  \\\n",
      "0       1        1       5  847117005 1996-11-04 14:16:45  1996     11    4   \n",
      "1       1        2       3  847642142 1996-11-10 16:09:02  1996     11   10   \n",
      "2       1       10       3  847641896 1996-11-10 16:04:56  1996     11   10   \n",
      "3       1       32       4  847642008 1996-11-10 16:06:48  1996     11   10   \n",
      "4       1       34       4  847641956 1996-11-10 16:05:56  1996     11   10   \n",
      "\n",
      "   hour  \n",
      "0    14  \n",
      "1    16  \n",
      "2    16  \n",
      "3    16  \n",
      "4    16  \n"
     ]
    }
   ],
   "source": [
    "print(ratings_data.head())"
   ]
  },
  {
   "cell_type": "markdown",
   "metadata": {
    "collapsed": true
   },
   "source": [
    "## Collaborative filtering"
   ]
  },
  {
   "cell_type": "code",
   "execution_count": null,
   "metadata": {
    "collapsed": true
   },
   "outputs": [],
   "source": []
  }
 ],
 "metadata": {
  "kernelspec": {
   "display_name": "Python 3",
   "language": "python",
   "name": "python3"
  },
  "language_info": {
   "codemirror_mode": {
    "name": "ipython",
    "version": 3
   },
   "file_extension": ".py",
   "mimetype": "text/x-python",
   "name": "python",
   "nbconvert_exporter": "python",
   "pygments_lexer": "ipython3",
   "version": "3.4.3"
  }
 },
 "nbformat": 4,
 "nbformat_minor": 0
}
