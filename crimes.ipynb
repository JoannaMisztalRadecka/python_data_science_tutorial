{
 "cells": [
  {
   "cell_type": "code",
   "execution_count": null,
   "metadata": {
    "collapsed": false
   },
   "outputs": [],
   "source": [
    "import pandas as pd\n",
    "train_data = pd.read_csv('kaggle_crimes/train.csv')[:10000]\n",
    "# test_data = pd.read_csv('kaggle_crimes/test.csv')"
   ]
  },
  {
   "cell_type": "code",
   "execution_count": 311,
   "metadata": {
    "collapsed": false
   },
   "outputs": [],
   "source": [
    "# adding features\n",
    "import re\n",
    "\n",
    "def get_street_name(address):\n",
    "    street_re = re.compile(r'([A-Z]+)\\sST')\n",
    "    street = street_re.search(address)\n",
    "    if street:\n",
    "        return street.group(1)\n",
    "    return ''\n",
    "\n",
    "def get_crime_inside(address):\n",
    "    block_re = re.compile(r'^\\d+ Block of')\n",
    "    if block_re.search(address):\n",
    "        return 1\n",
    "    return 0\n",
    "\n",
    "def get_season(month):\n",
    "    seasons_dict = {1: 0, 2: 0, 3: 1, 4: 1, 5: 1, 6: 2, 7: 2, 8: 2, 9: 3, 10: 3, 11: 3, 12: 0}\n",
    "    return seasons_dict[month]\n",
    "\n",
    "def get_day_time(hour):\n",
    "    if hour < 5:\n",
    "        return 0\n",
    "    if hour < 12:\n",
    "        return 1\n",
    "    if hour < 19:\n",
    "        return 2\n",
    "    if hour < 23:\n",
    "        return 3\n",
    "    return 0\n",
    "\n",
    "train_data['Dates'] =  pd.to_datetime(train_data['Dates'], format='%Y-%m-%d %H:%M:%S')\n",
    "train_data['Month'] = train_data.Dates.apply(lambda x: x.month)\n",
    "train_data['Hour'] = train_data.Dates.apply(lambda x: x.hour)\n",
    "train_data['Day'] = train_data.Dates.apply(lambda x: x.day)\n",
    "train_data['Season'] = train_data.Month.apply(lambda x: get_season(x))\n",
    "train_data['DayTime'] = train_data.Hour.apply(lambda x: get_day_time(x))\n",
    "weekend = ['Saturday', 'Sunday']\n",
    "train_data['Weekend'] = train_data.DayOfWeek.apply(lambda x: int(x in weekend))\n",
    "train_data['Street'] = train_data.Address.apply(lambda x: get_street_name(x))\n",
    "train_data['Inside'] = train_data.Address.apply(lambda x: get_crime_inside(x))\n",
    "\n"
   ]
  },
  {
   "cell_type": "code",
   "execution_count": 312,
   "metadata": {
    "collapsed": false
   },
   "outputs": [],
   "source": [
    "# encoding string values\n",
    "from sklearn import preprocessing\n",
    "\n",
    "categories_labels =  preprocessing.LabelEncoder()\n",
    "columns_labels = preprocessing.LabelEncoder()\n",
    "train_columns_to_encode = ['Descript', 'PdDistrict', 'Resolution', 'DayOfWeek', 'Street']\n",
    "\n",
    "for col in train_columns_to_encode:\n",
    "    train_data[col] = columns_labels.fit_transform(train_data[col])\n",
    "    \n",
    "train_data.Category = categories_labels.fit_transform(train_data.Category)"
   ]
  },
  {
   "cell_type": "code",
   "execution_count": 313,
   "metadata": {
    "collapsed": true
   },
   "outputs": [],
   "source": [
    "# #plot localization and categories of crimes\n",
    "# from matplotlib import pyplot as plt\n",
    "# plt.scatter(train_data.X, train_data.Y, c=train_data.Category)\n",
    "# plt.show()"
   ]
  },
  {
   "cell_type": "code",
   "execution_count": 314,
   "metadata": {
    "collapsed": false
   },
   "outputs": [],
   "source": [
    "# features selection\n",
    "\n",
    "# from sklearn.feature_selection import SelectKBest, f_classif\n",
    "\n",
    "predictors = [\"X\", \"Y\", \"Inside\", \"DayTime\", \"PdDistrict\"]\n",
    "# selector = SelectKBest(f_classif, k=7)\n",
    "# selector.fit(train_data[predictors], train_data.Category)\n",
    "selected_features_train = train_data[predictors].as_matrix()\n",
    "# print(selector.scores_)"
   ]
  },
  {
   "cell_type": "code",
   "execution_count": 315,
   "metadata": {
    "collapsed": false
   },
   "outputs": [],
   "source": [
    "# cross-validation and classification\n",
    "\n",
    "from sklearn.cross_validation import KFold\n",
    "from sklearn.neighbors import KNeighborsClassifier\n",
    "from sklearn.multiclass import OneVsRestClassifier,  OutputCodeClassifier\n",
    "from sklearn.svm import LinearSVC\n",
    "from sklearn.svm import SVC\n",
    "\n",
    "import numpy as np\n",
    "\n",
    "# classifier = Classifier(\n",
    "#     layers=[\n",
    "#         Layer(\"Maxout\", units=100, pieces=2),\n",
    "#         Layer(\"Softmax\")],\n",
    "#     learning_rate=0.001,\n",
    "#     n_iter=25)\n",
    "\n",
    "\n",
    "kf = KFold(train_data.shape[0], n_folds=3, random_state=1)\n",
    "classifier = KNeighborsClassifier(n_neighbors=50)\n",
    "# classifier = OneVsRestClassifier(LinearSVC(random_state=0))\n",
    "# classifier = SVC()\n",
    "predictions = []\n",
    "\n",
    "for train, test in kf:\n",
    "    train_predictors = selected_features_train[train,:]\n",
    "    train_target = train_data.Category.iloc[train]\n",
    "    classifier.fit(train_predictors, train_target)\n",
    "    test_predictions = classifier.predict(selected_features_train[test,:])\n",
    "    predictions.append(test_predictions)\n",
    "predictions = np.concatenate(predictions, axis=0)\n"
   ]
  },
  {
   "cell_type": "code",
   "execution_count": 316,
   "metadata": {
    "collapsed": false
   },
   "outputs": [
    {
     "name": "stdout",
     "output_type": "stream",
     "text": [
      "49.5360864969\n"
     ]
    }
   ],
   "source": [
    "# calculate error\n",
    "import scipy as sp\n",
    "import math\n",
    "\n",
    "def class_to_vect(classification):\n",
    "    cls_count = len(train_data.Category.unique())\n",
    "    vect = []\n",
    "    for cls in classification:\n",
    "        v = [0] * cls_count\n",
    "        v[cls] = 1\n",
    "        vect.append(v)\n",
    "    return vect\n",
    "\n",
    "def log_loss(act, pred):\n",
    "    epsilon = 1e-15\n",
    "    pred = sp.maximum(epsilon, pred)\n",
    "    pred = sp.minimum(1-epsilon, pred)\n",
    "    ll = sum(act*sp.log(pred) + sp.subtract(1,act)*sp.log(sp.subtract(1,pred)))\n",
    "    ll = sum(ll)\n",
    "    ll = ll * -1.0/len(act)\n",
    "    return ll\n",
    "\n",
    "def llfun(act, pred):\n",
    "    \"\"\" Logloss function for 1/0 probability\n",
    "    \"\"\"\n",
    "    return (-(~(act == pred)) * math.log(1e-15)).sum() / len(act)\n",
    "\n",
    "log_loss_classification = log_loss(class_to_vect(train_data.Category), class_to_vect(predictions))\n",
    "print(log_loss_classification)"
   ]
  },
  {
   "cell_type": "code",
   "execution_count": 300,
   "metadata": {
    "collapsed": false
   },
   "outputs": [],
   "source": [
    "# predict test set\n",
    "\n",
    "# add features\n",
    "test_data['Dates'] =  pd.to_datetime(test_data['Dates'], format='%Y-%m-%d %H:%M:%S')\n",
    "test_data['Month'] = test_data.Dates.apply(lambda x: x.month)\n",
    "test_data['Hour'] = test_data.Dates.apply(lambda x: x.hour)\n",
    "weekend = ['Saturday', 'Sunday']\n",
    "test_data['Weekend'] = test_data.DayOfWeek.apply(lambda x: int(x in weekend))\n",
    "test_data['Street'] = test_data.Address.apply(lambda x: get_street_name(x))\n",
    "test_data['Day'] = test_data.Dates.apply(lambda x: x.day)\n",
    "test_data['Season'] = test_data.Month.apply(lambda x: get_season(x))\n",
    "test_data['DayTime'] = test_data.Hour.apply(lambda x: get_day_time(x))\n",
    "test_data['Inside'] = test_data.Address.apply(lambda x: get_crime_inside(x))\n",
    "\n",
    "\n",
    "# encode columns values\n",
    "test_columns_to_encode = ['PdDistrict', 'DayOfWeek', 'Street']\n",
    "\n",
    "for col in test_columns_to_encode:\n",
    "    test_data[col] = columns_labels.fit_transform(test_data[col])\n",
    "\n",
    "# select best features\n",
    "selected_features_test = test_data[predictors].as_matrix() # selector.transform(test_data[predictors])\n",
    "\n",
    "# classify\n",
    "classifier.fit(selected_features_train, train_data.Category)\n",
    "test_classification = classifier.predict(selected_features_test)\n",
    "\n",
    "\n"
   ]
  },
  {
   "cell_type": "code",
   "execution_count": 301,
   "metadata": {
    "collapsed": false
   },
   "outputs": [],
   "source": [
    "# save result\n",
    "classification_results = pd.DataFrame(class_to_vect(test_classification), columns=categories_labels.classes_)\n",
    "classification_results.to_csv('kaggle_crimes/submission.csv', index_label='Id')"
   ]
  },
  {
   "cell_type": "code",
   "execution_count": null,
   "metadata": {
    "collapsed": true
   },
   "outputs": [],
   "source": []
  }
 ],
 "metadata": {
  "kernelspec": {
   "display_name": "Python 3",
   "language": "python",
   "name": "python3"
  },
  "language_info": {
   "codemirror_mode": {
    "name": "ipython",
    "version": 3
   },
   "file_extension": ".py",
   "mimetype": "text/x-python",
   "name": "python",
   "nbconvert_exporter": "python",
   "pygments_lexer": "ipython3",
   "version": "3.4.3"
  }
 },
 "nbformat": 4,
 "nbformat_minor": 0
}
